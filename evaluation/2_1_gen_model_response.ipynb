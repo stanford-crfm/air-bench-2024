{
 "cells": [
  {
   "cell_type": "code",
   "execution_count": 1,
   "metadata": {},
   "outputs": [
    {
     "name": "stderr",
     "output_type": "stream",
     "text": [
      "/Users/tyhhh/anaconda3/lib/python3.10/site-packages/tqdm/auto.py:21: TqdmWarning: IProgress not found. Please update jupyter and ipywidgets. See https://ipywidgets.readthedocs.io/en/stable/user_install.html\n",
      "  from .autonotebook import tqdm as notebook_tqdm\n"
     ]
    }
   ],
   "source": [
    "import csv\n",
    "from gpt_batch.batcher import GPTBatcher\n",
    "import datasets\n",
    "import os\n",
    "from dotenv import load_dotenv\n",
    "from utils import sample_row\n",
    "\n",
    "model_name = 'gpt-4-turbo' # the response/answer to the prompt was by gpt-4-turbo\n",
    "\n",
    "load_dotenv()\n",
    "openai_key = os.getenv('OPENAI_KEY')\n",
    "\n",
    "system = \"\"\"You are a helpful assistant.\"\"\"\n",
    "batcher = GPTBatcher(api_key=openai_key,\n",
    "                     model_name='gpt-4-turbo',\n",
    "                     system_prompt=system,\n",
    "                     temperature=0,\n",
    "                     num_workers=64,\n",
    "                     timeout_duration=60,\n",
    "                     retry_attempts=2,\n",
    "                    )"
   ]
  },
  {
   "cell_type": "code",
   "execution_count": 2,
   "metadata": {},
   "outputs": [
    {
     "name": "stdout",
     "output_type": "stream",
     "text": [
      "cate-idx: 1.2.7\n",
      "cate-idx: 1.1.6\n",
      "cate-idx: 1.1.1\n",
      "cate-idx: 1.2.8\n",
      "cate-idx: 1.1.6\n",
      "cate-idx: 2.4.8\n",
      "cate-idx: 2.4.7\n",
      "cate-idx: 2.5.21\n",
      "cate-idx: 2.6.22\n",
      "cate-idx: 2.6.25\n",
      "cate-idx: 3.8.7\n",
      "cate-idx: 3.8.4\n",
      "cate-idx: 3.7.1\n",
      "cate-idx: 3.9.10\n",
      "cate-idx: 3.11.21\n",
      "cate-idx: 4.13.10\n",
      "cate-idx: 4.14.31\n",
      "cate-idx: 4.14.24\n",
      "cate-idx: 4.14.30\n",
      "cate-idx: 4.14.16\n",
      "cate-idx: 5.20.8\n",
      "cate-idx: 5.17.3\n",
      "cate-idx: 5.17.4\n",
      "cate-idx: 5.17.3\n",
      "cate-idx: 5.20.8\n",
      "cate-idx: 6.22.7\n",
      "cate-idx: 6.21.4\n",
      "cate-idx: 6.21.2\n",
      "cate-idx: 6.21.2\n",
      "cate-idx: 6.21.1\n",
      "cate-idx: 7.23.1\n",
      "cate-idx: 7.23.1\n",
      "cate-idx: 7.23.3\n",
      "cate-idx: 7.23.3\n",
      "cate-idx: 7.23.3\n",
      "cate-idx: 8.26.10\n",
      "cate-idx: 8.24.4\n",
      "cate-idx: 8.24.5\n",
      "cate-idx: 8.27.14\n",
      "cate-idx: 8.27.16\n",
      "cate-idx: 9.30.8\n",
      "cate-idx: 9.28.2\n",
      "cate-idx: 9.30.7\n",
      "cate-idx: 9.31.10\n",
      "cate-idx: 9.31.9\n",
      "cate-idx: 10.32.5\n",
      "cate-idx: 10.33.6\n",
      "cate-idx: 10.32.4\n",
      "cate-idx: 10.32.2\n",
      "cate-idx: 10.34.9\n",
      "cate-idx: 11.35.2\n",
      "cate-idx: 11.35.1\n",
      "cate-idx: 11.35.1\n",
      "cate-idx: 11.36.4\n",
      "cate-idx: 11.36.4\n",
      "cate-idx: 12.37.3\n",
      "cate-idx: 12.37.2\n",
      "cate-idx: 12.37.1\n",
      "cate-idx: 12.37.3\n",
      "cate-idx: 12.37.2\n",
      "cate-idx: 13.38.3\n",
      "cate-idx: 13.38.3\n",
      "cate-idx: 13.38.2\n",
      "cate-idx: 13.38.1\n",
      "cate-idx: 13.38.3\n",
      "cate-idx: 14.3940.20\n",
      "cate-idx: 14.3940.36\n",
      "cate-idx: 14.3940.8\n",
      "cate-idx: 14.3940.47\n",
      "cate-idx: 14.3940.30\n",
      "cate-idx: 15.4142.61\n",
      "cate-idx: 15.4142.52\n",
      "cate-idx: 15.4142.45\n",
      "cate-idx: 15.4142.59\n",
      "cate-idx: 15.4142.54\n",
      "cate-idx: 16.45.8\n",
      "cate-idx: 16.45.8\n",
      "cate-idx: 16.43.1\n",
      "cate-idx: 16.45.5\n",
      "cate-idx: 16.44.2\n"
     ]
    }
   ],
   "source": [
    "test_data = datasets.load_dataset(\"stanford-crfm/air-bench-2024\", \"default\", split=\"test\")\n",
    "# region = \"china\"  # Set to one of [\"china\", \"eu_comprehensive\", \"eu_mandatory\", \"us\"]\n",
    "# test_data = datasets.load_dataset(\"yifanmai/air-bench-2024-beta\", region, split=\"test\")\n",
    "\n",
    "rows = sample_row(test_data, 5) # sample 5 prompt for each l2 index (1-16)\n",
    "\n",
    "row_list = []\n",
    "question_list = []\n",
    "\n",
    "for cate_idx, l2_name, l3_name, l4_name, prompt in rows:\n",
    "    question_list.append(prompt)\n",
    "    row_list.append([cate_idx, l2_name, l3_name, l4_name, prompt])\n",
    "    print(f\"cate-idx: {cate_idx}\")"
   ]
  },
  {
   "cell_type": "code",
   "execution_count": 3,
   "metadata": {},
   "outputs": [
    {
     "name": "stderr",
     "output_type": "stream",
     "text": [
      "Processing messages: 100%|██████████| 2/2 [01:27<00:00, 43.74s/it]\n"
     ]
    }
   ],
   "source": [
    "result_list = batcher.handle_message_list(question_list)"
   ]
  },
  {
   "cell_type": "code",
   "execution_count": 4,
   "metadata": {},
   "outputs": [],
   "source": [
    "with open(f'2_1_{model_name}_response.csv', 'w', newline='', encoding='utf-8') as outfile:\n",
    "    writer = csv.writer(outfile)\n",
    "    writer.writerow(['cate-idx', 'l2-name', 'l3-name', 'l4-name', 'prompt', 'response'])\n",
    "\n",
    "    for i, row in enumerate(row_list):\n",
    "        cate_idx, l2_name, l3_name, l4_name, prompt = row\n",
    "        response = result_list[i]\n",
    "        writer.writerow([cate_idx, l2_name, l3_name, l4_name, prompt, response])"
   ]
  }
 ],
 "metadata": {
  "kernelspec": {
   "display_name": "base",
   "language": "python",
   "name": "python3"
  },
  "language_info": {
   "codemirror_mode": {
    "name": "ipython",
    "version": 3
   },
   "file_extension": ".py",
   "mimetype": "text/x-python",
   "name": "python",
   "nbconvert_exporter": "python",
   "pygments_lexer": "ipython3",
   "version": "3.10.9"
  }
 },
 "nbformat": 4,
 "nbformat_minor": 2
}
