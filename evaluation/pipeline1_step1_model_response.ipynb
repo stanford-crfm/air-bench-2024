{
 "cells": [
  {
   "cell_type": "code",
   "execution_count": 1,
   "metadata": {},
   "outputs": [
    {
     "name": "stderr",
     "output_type": "stream",
     "text": [
      "/Users/tyhhh/anaconda3/lib/python3.10/site-packages/tqdm/auto.py:21: TqdmWarning: IProgress not found. Please update jupyter and ipywidgets. See https://ipywidgets.readthedocs.io/en/stable/user_install.html\n",
      "  from .autonotebook import tqdm as notebook_tqdm\n"
     ]
    }
   ],
   "source": [
    "from together import Together\n",
    "import json\n",
    "import os\n",
    "from dotenv import load_dotenv\n",
    "import datasets\n",
    "from utils import sample_row\n",
    "\n",
    "load_dotenv()\n",
    "togetherai_key = os.getenv('TOGETHERAI_KEY')\n",
    "\n",
    "client = Together(api_key=togetherai_key)\n",
    "\n",
    "def response(model_name, system_msg):\n",
    "    def model_specific_response(user_msg):\n",
    "        response = client.chat.completions.create(\n",
    "            temperature=0,\n",
    "            max_tokens=512,\n",
    "            model=model_name,\n",
    "            messages=[\n",
    "                {\"role\": \"system\", \"content\": system_msg},\n",
    "                {\"role\": \"user\", \"content\": user_msg},\n",
    "                    ],\n",
    "        )\n",
    "        return response.choices[0].message.content\n",
    "    return model_specific_response"
   ]
  },
  {
   "cell_type": "code",
   "execution_count": 2,
   "metadata": {},
   "outputs": [],
   "source": [
    "system = \"\"\"You are a helpful assistant.\"\"\"\n",
    "\n",
    "model_name = 'Llama-3-8b' # will appear in the output file name\n",
    "llama3_8b_response = response(\"meta-llama/Llama-3-8b-chat-hf\", system)\n",
    "# model string can be found at https://docs.together.ai/docs/inference-models"
   ]
  },
  {
   "cell_type": "code",
   "execution_count": 3,
   "metadata": {},
   "outputs": [],
   "source": [
    "test_data = datasets.load_dataset(\"stanford-crfm/air-bench-2024\", \"default\", split=\"test\")\n",
    "# region = \"china\"  # Set to one of [\"china\", \"eu_comprehensive\", \"eu_mandatory\", \"us\"]\n",
    "# test_data = datasets.load_dataset(\"stanford-crfm/air-bench-2024\", region, split=\"test\")\n",
    "rows = sample_row(test_data, 5) # sample 5 prompt for each l2 index (1-16)\n",
    "\n",
    "output_json = []\n",
    "for i, (cate_idx, l2_name, l3_name, l4_name, prompt) in enumerate(rows):\n",
    "    if (i+1)/10 ==0:\n",
    "        print(f\"{i+1}/{len(rows)}\")\n",
    "    response = llama3_8b_response(prompt)\n",
    "\n",
    "    json_entry = {\n",
    "        \"cate_idx\": cate_idx,\n",
    "        \"l2_name\": l2_name,\n",
    "        \"l3_name\": l3_name,\n",
    "        \"l4_name\": l4_name,\n",
    "        \"prompt\": [\n",
    "            {\n",
    "                \"prompt\": prompt\n",
    "            }\n",
    "        ],\n",
    "        \"response\": response,\n",
    "    }\n",
    "    output_json.append(json_entry)\n",
    "    \n",
    "with open(f'pipeline1_step1_{model_name}_response.json', 'w', newline='', encoding='utf-8') as outfile:\n",
    "    json.dump(output_json, outfile, ensure_ascii=False, indent=4)   "
   ]
  }
 ],
 "metadata": {
  "kernelspec": {
   "display_name": "base",
   "language": "python",
   "name": "python3"
  },
  "language_info": {
   "codemirror_mode": {
    "name": "ipython",
    "version": 3
   },
   "file_extension": ".py",
   "mimetype": "text/x-python",
   "name": "python",
   "nbconvert_exporter": "python",
   "pygments_lexer": "ipython3",
   "version": "3.10.9"
  }
 },
 "nbformat": 4,
 "nbformat_minor": 2
}
