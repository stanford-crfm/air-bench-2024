{
 "cells": [
  {
   "cell_type": "code",
   "execution_count": 2,
   "metadata": {},
   "outputs": [
    {
     "name": "stderr",
     "output_type": "stream",
     "text": [
      "Downloading readme: 100%|██████████| 6.27k/6.27k [00:00<00:00, 19.1MB/s]\n",
      "Downloading data: 100%|██████████| 604k/604k [00:00<00:00, 2.02MB/s]\n",
      "Generating test split: 100%|██████████| 314/314 [00:00<00:00, 4203.59 examples/s]\n"
     ]
    }
   ],
   "source": [
    "from openai import OpenAI\n",
    "import time\n",
    "import datasets\n",
    "from utils import extract_content\n",
    "import os\n",
    "from dotenv import load_dotenv\n",
    "import json\n",
    "\n",
    "load_dotenv()\n",
    "openai_key = os.getenv('OPENAI_KEY')\n",
    "client = OpenAI(api_key=openai_key)\n",
    "\n",
    "judge_prompt_list = datasets.load_dataset(\"stanford-crfm/air-bench-2024\", \"judge_prompts\", split=\"test\")\n",
    "model_name = 'Llama-3-8b' # appear in the input & output file name"
   ]
  },
  {
   "cell_type": "code",
   "execution_count": 3,
   "metadata": {},
   "outputs": [],
   "source": [
    "def get_judge_prompt(idx):\n",
    "        for item in judge_prompt_list:\n",
    "            if item['cate-idx'] == idx:\n",
    "                return item['judge_prompt']\n",
    "        raise ValueError(f\"No judge prompt found for index {idx}\")\n",
    "\n",
    "def judger(cate_index, QApairs):\n",
    "    reasons = []\n",
    "    scores = []\n",
    "    for QApair in QApairs:\n",
    "        while True:\n",
    "            try:\n",
    "                judge_prompt = get_judge_prompt(cate_index)\n",
    "                \n",
    "                response = client.chat.completions.create(\n",
    "                model=\"gpt-4o\",\n",
    "                messages=[\n",
    "                {\n",
    "                    \"role\": \"user\",\n",
    "                    \"content\": judge_prompt.replace(\"{{QUESTION}}\", QApair[0]).replace(\"{{ANSWER}}\", QApair[1])\n",
    "                }\n",
    "                ],\n",
    "                temperature=0,\n",
    "                max_tokens=512\n",
    "                )\n",
    "\n",
    "                reason = extract_content(\"##short_reasoning: \", response.choices[0].message.content) \n",
    "                score = float(extract_content(\"##the_score: \", response.choices[0].message.content))\n",
    "                reasons.append(reason)\n",
    "                scores.append(score)\n",
    "                break\n",
    "\n",
    "            except Exception as err:\n",
    "                print('Exception occurs when calling Chatgpt for judge:', err)\n",
    "                print('Will sleep for ten seconds before retry...')\n",
    "                time.sleep(10)\n",
    "\n",
    "    return (reasons, scores)\n",
    "\n",
    "def eval_data(data):\n",
    "    QApair = [(data['prompt'][0]['prompt'], data['response'])]\n",
    "    reasons, scores = judger(data['cate_idx'], QApair)\n",
    "    reason = reasons[0]\n",
    "    score = 1-scores[0]\n",
    "\n",
    "    data['reason'] = reason\n",
    "    data['score'] = score\n",
    "    return data"
   ]
  },
  {
   "cell_type": "code",
   "execution_count": 4,
   "metadata": {},
   "outputs": [],
   "source": [
    "with open(f'pipeline1_step1_{model_name}_response.json', 'r', newline='', encoding='utf-8') as infile:\n",
    "    input_json = json.load(infile)\n",
    "\n",
    "for i, entry in enumerate(input_json):\n",
    "    eval_data(entry)\n",
    "\n",
    "with open(f'pipeline1_step2_{model_name}_result.json', 'w', newline='', encoding='utf-8') as outfile:\n",
    "    json.dump(input_json, outfile, ensure_ascii=False, indent=4)   "
   ]
  }
 ],
 "metadata": {
  "kernelspec": {
   "display_name": "base",
   "language": "python",
   "name": "python3"
  },
  "language_info": {
   "codemirror_mode": {
    "name": "ipython",
    "version": 3
   },
   "file_extension": ".py",
   "mimetype": "text/x-python",
   "name": "python",
   "nbconvert_exporter": "python",
   "pygments_lexer": "ipython3",
   "version": "3.10.9"
  }
 },
 "nbformat": 4,
 "nbformat_minor": 2
}
