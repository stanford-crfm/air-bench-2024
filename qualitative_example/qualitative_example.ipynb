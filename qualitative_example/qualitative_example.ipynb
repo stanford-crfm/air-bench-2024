{
 "cells": [
  {
   "cell_type": "code",
   "execution_count": null,
   "metadata": {},
   "outputs": [],
   "source": [
    "import pandas as pd\n",
    "\n",
    "def qualitative_example(data, level_num, level_name, max_number = 3):\n",
    "    level_column = f\"l{level_num}-name\"\n",
    "\n",
    "    selected_rows = data[data[level_column] == level_name]\n",
    "    if selected_rows.empty:\n",
    "        raise ValueError(f\"No rows found with \\\"{level_name}\\\" in level {level_num}\")\n",
    "    \n",
    "    max_response = selected_rows['total_response'].max()\n",
    "    print(f\"Max number of models responded: {max_response}/21\")\n",
    "    max_score_row = selected_rows[selected_rows['total_response'] == max_response]\n",
    "    \n",
    "    total_rows = len(max_score_row)\n",
    "    print(f\"Total number of Qs with the max number of models responded: {total_rows}\")\n",
    "    \n",
    "    count = 0\n",
    "    for _, row in max_score_row.iterrows():\n",
    "        count += 1\n",
    "        if count > max_number:\n",
    "            break\n",
    "        \n",
    "        print(f\"\\nQ{count}\")\n",
    "        print(f\"{row['cate-idx']}, {row['l1-name']}, {row['l2-name']}, {row['l3-name']}, {row['l4-name']}\")\n",
    "        print(f\"Request: {row['prompt']}\")\n",
    "        model_data = {}\n",
    "        for col in data.columns[6:27]:\n",
    "            if row[col] != 'None':\n",
    "                model_data[col] = row[col]\n",
    "        print(model_data)"
   ]
  },
  {
   "cell_type": "code",
   "execution_count": null,
   "metadata": {},
   "outputs": [],
   "source": [
    "merged_data = pd.read_csv(\"merged_data.csv\")\n",
    "\n",
    "# print examples for each level-2 category\n",
    "for level_name in merged_data['l2-name'].unique():\n",
    "    print(f\"\\n\\n\\n\")\n",
    "    print(f\"Level 2: {level_name}\")\n",
    "    qualitative_example(merged_data, 2, level_name)"
   ]
  },
  {
   "cell_type": "code",
   "execution_count": 57,
   "metadata": {},
   "outputs": [],
   "source": [
    "import pandas as pd\n",
    "\n",
    "def qualitative_example(data, level_num, level_name, max_number=5, output_file='output.txt'):\n",
    "    level_column = f\"l{level_num}-name\"\n",
    "    \n",
    "    selected_rows = data[data[level_column] == level_name]\n",
    "    if selected_rows.empty:\n",
    "        raise ValueError(f\"No rows found with \\\"{level_name}\\\" in level {level_num}\")\n",
    "    \n",
    "    max_response = selected_rows['total_response'].max()\n",
    "    \n",
    "    with open(output_file, 'w') as file:\n",
    "        file.write(f\"Max number of models responded: {max_response}/21\\n\")\n",
    "        max_score_row = selected_rows[selected_rows['total_response'] == max_response-6]\n",
    "        \n",
    "        total_rows = len(max_score_row)\n",
    "        file.write(f\"Total number of Qs with the max number of models responded: {total_rows}\\n\")\n",
    "        \n",
    "        count = 0\n",
    "        for _, row in max_score_row.iterrows():\n",
    "            count += 1\n",
    "            if count > max_number:\n",
    "                break\n",
    "            \n",
    "            file.write(f\"\\nQ{count}\\n\")\n",
    "            file.write(f\"{row['cate-idx']}, {row['l1-name']}, {row['l2-name']}, {row['l3-name']}, {row['l4-name']}\\n\")\n",
    "            file.write(f\"Request: {row['prompt']}\\n\")\n",
    "            \n",
    "            model_data = {}\n",
    "            for col in data.columns[6:27]:\n",
    "                if row[col] != 'None':\n",
    "                    model_data[col] = row[col]\n",
    "            \n",
    "            file.write(f\"{model_data}\\n\")"
   ]
  },
  {
   "cell_type": "code",
   "execution_count": 58,
   "metadata": {},
   "outputs": [
    {
     "name": "stdout",
     "output_type": "stream",
     "text": [
      "\n",
      "\n",
      "\n",
      "\n",
      "Level 2: Child Harm\n"
     ]
    }
   ],
   "source": [
    "merged_data = pd.read_csv(\"merged_data.csv\")\n",
    "for level_name in merged_data['l2-name'].unique():\n",
    "    if level_name == \"Child Harm\":\n",
    "        print(f\"\\n\\n\\n\")\n",
    "        print(f\"Level 2: {level_name}\")\n",
    "        qualitative_example(merged_data, 2, level_name)\n",
    "\n",
    "# qualitative_example(merged_data, 2, \"Security Risks\")"
   ]
  }
 ],
 "metadata": {
  "kernelspec": {
   "display_name": "Python 3 (ipykernel)",
   "language": "python",
   "name": "python3"
  },
  "language_info": {
   "codemirror_mode": {
    "name": "ipython",
    "version": 3
   },
   "file_extension": ".py",
   "mimetype": "text/x-python",
   "name": "python",
   "nbconvert_exporter": "python",
   "pygments_lexer": "ipython3",
   "version": "3.1.undefined"
  }
 },
 "nbformat": 4,
 "nbformat_minor": 4
}
